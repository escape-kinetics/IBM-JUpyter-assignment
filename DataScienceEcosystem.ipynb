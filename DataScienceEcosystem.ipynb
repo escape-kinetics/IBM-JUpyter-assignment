{
 "cells": [
  {
   "cell_type": "markdown",
   "id": "f58dba4f-4d09-47bf-bd03-e1c70f47d52b",
   "metadata": {},
   "source": [
    "## Data Science Tools and Ecosystem"
   ]
  },
  {
   "cell_type": "markdown",
   "id": "a9280a05-6ea7-4197-9eaf-f648d10b44ce",
   "metadata": {},
   "source": [
    "This notebook has data science tools and ecosystems summarized."
   ]
  },
  {
   "cell_type": "markdown",
   "id": "91f8335e-f9d5-44fb-a5b5-3d70ead30907",
   "metadata": {},
   "source": [
    "**Objectives :**\n",
    "1. Some of the popular languages that Data Scientists use.\n",
    "2. Some of the commonly used libraries used by Data Scientists.\n",
    "3. Data Science Tools,"
   ]
  },
  {
   "cell_type": "markdown",
   "id": "2ea9dae6-866d-4aeb-9206-54ec6c408d65",
   "metadata": {},
   "source": [
    "Some of the popular languages that Data Scientists use are:\n",
    "\n",
    "1. SQL\n",
    "2. R\n",
    "3. Python"
   ]
  },
  {
   "cell_type": "markdown",
   "id": "c5e4792a-07b7-431e-bd58-0b7788748272",
   "metadata": {},
   "source": [
    "Some of the commonly used libraries used by Data Scientists include:\n",
    "\n",
    "1. Pandas\n",
    "2. Numpy\n",
    "3. Matplotlib"
   ]
  },
  {
   "cell_type": "markdown",
   "id": "f6941a77-cc09-4308-b449-27b896d73bd5",
   "metadata": {},
   "source": [
    "| Data Science Tools |\n",
    "| --- |\n",
    "| Apache spark |\n",
    "| RStudio and R|\n",
    "|Jupyter Notebook |\n"
   ]
  },
  {
   "cell_type": "markdown",
   "id": "d43d4bce-908f-43db-84b9-0ce48c2b49a2",
   "metadata": {},
   "source": [
    "### Below are a few examples of evaluating arithmetic expressions in Python"
   ]
  },
  {
   "cell_type": "code",
   "execution_count": 1,
   "id": "0ebec99c-48dd-4a08-b3c0-80da708f3500",
   "metadata": {
    "tags": []
   },
   "outputs": [
    {
     "data": {
      "text/plain": [
       "17"
      ]
     },
     "execution_count": 1,
     "metadata": {},
     "output_type": "execute_result"
    }
   ],
   "source": [
    "# This a simple arithmetic expression to mutiply then add integers\n",
    "(3*4)+5"
   ]
  },
  {
   "cell_type": "code",
   "execution_count": 5,
   "id": "3bd0beaf-4d67-4f9c-95f9-19e6a5c440b0",
   "metadata": {
    "jp-MarkdownHeadingCollapsed": true,
    "tags": []
   },
   "outputs": [
    {
     "data": {
      "text/plain": [
       "3.3333333333333335"
      ]
     },
     "execution_count": 5,
     "metadata": {},
     "output_type": "execute_result"
    }
   ],
   "source": [
    "# This will convert 200 minutes to hours by diving by 60\n",
    "200/60\n"
   ]
  },
  {
   "cell_type": "code",
   "execution_count": null,
   "id": "2cf98d64-64d3-4d45-b7f6-5e96d4d11ab9",
   "metadata": {},
   "outputs": [],
   "source": []
  },
  {
   "cell_type": "markdown",
   "id": "013d165e-a397-4285-b7e9-0e3da89c6ded",
   "metadata": {},
   "source": [
    "## Author\n",
    "\n",
    "Vedanth"
   ]
  },
  {
   "cell_type": "code",
   "execution_count": null,
   "id": "08851a2c-e734-481c-b852-4bf21ea8c8b5",
   "metadata": {},
   "outputs": [],
   "source": []
  }
 ],
 "metadata": {
  "kernelspec": {
   "display_name": "Python",
   "language": "python",
   "name": "conda-env-python-py"
  },
  "language_info": {
   "codemirror_mode": {
    "name": "ipython",
    "version": 3
   },
   "file_extension": ".py",
   "mimetype": "text/x-python",
   "name": "python",
   "nbconvert_exporter": "python",
   "pygments_lexer": "ipython3",
   "version": "3.7.12"
  }
 },
 "nbformat": 4,
 "nbformat_minor": 5
}
